{
 "cells": [
  {
   "cell_type": "code",
   "execution_count": 1,
   "id": "dadc7d5b",
   "metadata": {},
   "outputs": [],
   "source": [
    "#importing necessary library\n",
    "import numpy as np\n",
    "import pandas as pd\n",
    "import matplotlib.pyplot as plt\n",
    "%matplotlib inline"
   ]
  },
  {
   "cell_type": "code",
   "execution_count": 2,
   "id": "4015b8b5",
   "metadata": {},
   "outputs": [],
   "source": [
    "df = pd.read_csv(r'C:\\Users\\Admin\\AppData\\Local\\Temp\\Temp1_archive (1).zip\\flipkart_smartphones.csv')"
   ]
  },
  {
   "cell_type": "code",
   "execution_count": 3,
   "id": "7d58b7f3",
   "metadata": {},
   "outputs": [
    {
     "data": {
      "text/html": [
       "<div>\n",
       "<style scoped>\n",
       "    .dataframe tbody tr th:only-of-type {\n",
       "        vertical-align: middle;\n",
       "    }\n",
       "\n",
       "    .dataframe tbody tr th {\n",
       "        vertical-align: top;\n",
       "    }\n",
       "\n",
       "    .dataframe thead th {\n",
       "        text-align: right;\n",
       "    }\n",
       "</style>\n",
       "<table border=\"1\" class=\"dataframe\">\n",
       "  <thead>\n",
       "    <tr style=\"text-align: right;\">\n",
       "      <th></th>\n",
       "      <th>brand</th>\n",
       "      <th>model</th>\n",
       "      <th>colour</th>\n",
       "      <th>original_price</th>\n",
       "      <th>discounted_price</th>\n",
       "      <th>ratings</th>\n",
       "      <th>rating_count</th>\n",
       "      <th>reviews</th>\n",
       "      <th>memory</th>\n",
       "      <th>storage</th>\n",
       "      <th>processor</th>\n",
       "      <th>rear_camera</th>\n",
       "      <th>front_camera</th>\n",
       "      <th>display_size</th>\n",
       "      <th>battery_capacity</th>\n",
       "      <th>battery_type</th>\n",
       "    </tr>\n",
       "  </thead>\n",
       "  <tbody>\n",
       "    <tr>\n",
       "      <th>0</th>\n",
       "      <td>VIVO</td>\n",
       "      <td>VIVO T1 44W</td>\n",
       "      <td>Starry Sky</td>\n",
       "      <td>19990</td>\n",
       "      <td>14499</td>\n",
       "      <td>4.5</td>\n",
       "      <td>87331</td>\n",
       "      <td>6044</td>\n",
       "      <td>4.0</td>\n",
       "      <td>128.0</td>\n",
       "      <td>Qualcomm Snapdragon 680</td>\n",
       "      <td>50MP + 2MP + 2MP</td>\n",
       "      <td>16MP</td>\n",
       "      <td>16.36</td>\n",
       "      <td>5000.0</td>\n",
       "      <td>Lithium</td>\n",
       "    </tr>\n",
       "    <tr>\n",
       "      <th>1</th>\n",
       "      <td>APPLE</td>\n",
       "      <td>APPLE IPHONE 11</td>\n",
       "      <td>White</td>\n",
       "      <td>48900</td>\n",
       "      <td>47199</td>\n",
       "      <td>4.6</td>\n",
       "      <td>184191</td>\n",
       "      <td>10818</td>\n",
       "      <td>NaN</td>\n",
       "      <td>128.0</td>\n",
       "      <td>A Bionic Chip</td>\n",
       "      <td>12MP + 12MP</td>\n",
       "      <td>12MP</td>\n",
       "      <td>15.49</td>\n",
       "      <td>NaN</td>\n",
       "      <td>NaN</td>\n",
       "    </tr>\n",
       "    <tr>\n",
       "      <th>2</th>\n",
       "      <td>VIVO</td>\n",
       "      <td>VIVO T1 44W</td>\n",
       "      <td>Midnight Galaxy</td>\n",
       "      <td>20990</td>\n",
       "      <td>15999</td>\n",
       "      <td>4.4</td>\n",
       "      <td>51365</td>\n",
       "      <td>3750</td>\n",
       "      <td>6.0</td>\n",
       "      <td>128.0</td>\n",
       "      <td>Qualcomm Snapdragon 680</td>\n",
       "      <td>50MP + 2MP + 2MP</td>\n",
       "      <td>16MP</td>\n",
       "      <td>16.36</td>\n",
       "      <td>5000.0</td>\n",
       "      <td>Lithium</td>\n",
       "    </tr>\n",
       "    <tr>\n",
       "      <th>3</th>\n",
       "      <td>XIAOMI</td>\n",
       "      <td>POCO M4 5G</td>\n",
       "      <td>Power Black</td>\n",
       "      <td>15999</td>\n",
       "      <td>11999</td>\n",
       "      <td>4.2</td>\n",
       "      <td>53448</td>\n",
       "      <td>4185</td>\n",
       "      <td>4.0</td>\n",
       "      <td>64.0</td>\n",
       "      <td>Mediatek Dimensity 700</td>\n",
       "      <td>50MP + 2MP</td>\n",
       "      <td>8MP</td>\n",
       "      <td>16.71</td>\n",
       "      <td>5000.0</td>\n",
       "      <td>Lithium Polymer</td>\n",
       "    </tr>\n",
       "    <tr>\n",
       "      <th>4</th>\n",
       "      <td>XIAOMI</td>\n",
       "      <td>REDMI 10</td>\n",
       "      <td>Caribbean Green</td>\n",
       "      <td>14999</td>\n",
       "      <td>9299</td>\n",
       "      <td>4.3</td>\n",
       "      <td>187787</td>\n",
       "      <td>12084</td>\n",
       "      <td>4.0</td>\n",
       "      <td>64.0</td>\n",
       "      <td>Qualcomm Snapdragon 680</td>\n",
       "      <td>50MP + 2MP</td>\n",
       "      <td>5MP</td>\n",
       "      <td>17.02</td>\n",
       "      <td>6000.0</td>\n",
       "      <td>Lithium Polymer</td>\n",
       "    </tr>\n",
       "  </tbody>\n",
       "</table>\n",
       "</div>"
      ],
      "text/plain": [
       "    brand             model           colour  original_price  \\\n",
       "0    VIVO      VIVO T1 44W        Starry Sky           19990   \n",
       "1   APPLE  APPLE IPHONE 11             White           48900   \n",
       "2    VIVO      VIVO T1 44W   Midnight Galaxy           20990   \n",
       "3  XIAOMI       POCO M4 5G       Power Black           15999   \n",
       "4  XIAOMI         REDMI 10   Caribbean Green           14999   \n",
       "\n",
       "   discounted_price  ratings  rating_count  reviews  memory  storage  \\\n",
       "0             14499      4.5         87331     6044     4.0    128.0   \n",
       "1             47199      4.6        184191    10818     NaN    128.0   \n",
       "2             15999      4.4         51365     3750     6.0    128.0   \n",
       "3             11999      4.2         53448     4185     4.0     64.0   \n",
       "4              9299      4.3        187787    12084     4.0     64.0   \n",
       "\n",
       "                 processor        rear_camera front_camera  display_size  \\\n",
       "0  Qualcomm Snapdragon 680  50MP + 2MP + 2MP          16MP         16.36   \n",
       "1            A Bionic Chip       12MP + 12MP          12MP         15.49   \n",
       "2  Qualcomm Snapdragon 680  50MP + 2MP + 2MP          16MP         16.36   \n",
       "3   Mediatek Dimensity 700        50MP + 2MP           8MP         16.71   \n",
       "4  Qualcomm Snapdragon 680        50MP + 2MP           5MP         17.02   \n",
       "\n",
       "   battery_capacity     battery_type  \n",
       "0            5000.0          Lithium  \n",
       "1               NaN              NaN  \n",
       "2            5000.0          Lithium  \n",
       "3            5000.0  Lithium Polymer  \n",
       "4            6000.0  Lithium Polymer  "
      ]
     },
     "execution_count": 3,
     "metadata": {},
     "output_type": "execute_result"
    }
   ],
   "source": [
    "df.head()"
   ]
  },
  {
   "cell_type": "code",
   "execution_count": 4,
   "id": "61c241bc",
   "metadata": {},
   "outputs": [
    {
     "name": "stdout",
     "output_type": "stream",
     "text": [
      "<class 'pandas.core.frame.DataFrame'>\n",
      "RangeIndex: 836 entries, 0 to 835\n",
      "Data columns (total 16 columns):\n",
      " #   Column            Non-Null Count  Dtype  \n",
      "---  ------            --------------  -----  \n",
      " 0   brand             836 non-null    object \n",
      " 1   model             836 non-null    object \n",
      " 2   colour            831 non-null    object \n",
      " 3   original_price    836 non-null    int64  \n",
      " 4   discounted_price  836 non-null    int64  \n",
      " 5   ratings           836 non-null    float64\n",
      " 6   rating_count      836 non-null    int64  \n",
      " 7   reviews           836 non-null    int64  \n",
      " 8   memory            757 non-null    float64\n",
      " 9   storage           820 non-null    float64\n",
      " 10  processor         698 non-null    object \n",
      " 11  rear_camera       836 non-null    object \n",
      " 12  front_camera      707 non-null    object \n",
      " 13  display_size      836 non-null    float64\n",
      " 14  battery_capacity  778 non-null    float64\n",
      " 15  battery_type      477 non-null    object \n",
      "dtypes: float64(5), int64(4), object(7)\n",
      "memory usage: 104.6+ KB\n"
     ]
    }
   ],
   "source": [
    "df.info()"
   ]
  },
  {
   "cell_type": "code",
   "execution_count": 5,
   "id": "65fddbb5",
   "metadata": {},
   "outputs": [
    {
     "data": {
      "text/plain": [
       "(836, 16)"
      ]
     },
     "execution_count": 5,
     "metadata": {},
     "output_type": "execute_result"
    }
   ],
   "source": [
    "df.shape"
   ]
  },
  {
   "cell_type": "code",
   "execution_count": 6,
   "id": "dbc4ddc4",
   "metadata": {},
   "outputs": [
    {
     "data": {
      "text/plain": [
       "Index(['brand', 'model', 'colour', 'original_price', 'discounted_price',\n",
       "       'ratings', 'rating_count', 'reviews', 'memory', 'storage', 'processor',\n",
       "       'rear_camera', 'front_camera', 'display_size', 'battery_capacity',\n",
       "       'battery_type'],\n",
       "      dtype='object')"
      ]
     },
     "execution_count": 6,
     "metadata": {},
     "output_type": "execute_result"
    }
   ],
   "source": [
    "df.columns"
   ]
  },
  {
   "cell_type": "code",
   "execution_count": 7,
   "id": "7010acad",
   "metadata": {},
   "outputs": [
    {
     "data": {
      "text/plain": [
       "brand                 0\n",
       "model                 0\n",
       "colour                5\n",
       "original_price        0\n",
       "discounted_price      0\n",
       "ratings               0\n",
       "rating_count          0\n",
       "reviews               0\n",
       "memory               79\n",
       "storage              16\n",
       "processor           138\n",
       "rear_camera           0\n",
       "front_camera        129\n",
       "display_size          0\n",
       "battery_capacity     58\n",
       "battery_type        359\n",
       "dtype: int64"
      ]
     },
     "execution_count": 7,
     "metadata": {},
     "output_type": "execute_result"
    }
   ],
   "source": [
    "df.isna().sum()"
   ]
  },
  {
   "cell_type": "code",
   "execution_count": 8,
   "id": "1d51b252",
   "metadata": {},
   "outputs": [
    {
     "data": {
      "text/plain": [
       "brand                object\n",
       "model                object\n",
       "colour               object\n",
       "original_price        int64\n",
       "discounted_price      int64\n",
       "ratings             float64\n",
       "rating_count          int64\n",
       "reviews               int64\n",
       "memory              float64\n",
       "storage             float64\n",
       "processor            object\n",
       "rear_camera          object\n",
       "front_camera         object\n",
       "display_size        float64\n",
       "battery_capacity    float64\n",
       "battery_type         object\n",
       "dtype: object"
      ]
     },
     "execution_count": 8,
     "metadata": {},
     "output_type": "execute_result"
    }
   ],
   "source": [
    "df.dtypes"
   ]
  },
  {
   "cell_type": "code",
   "execution_count": 9,
   "id": "600785de",
   "metadata": {},
   "outputs": [],
   "source": [
    "df_numerical = df.select_dtypes(include=[np.number])"
   ]
  },
  {
   "cell_type": "code",
   "execution_count": 10,
   "id": "118b402e",
   "metadata": {},
   "outputs": [
    {
     "data": {
      "text/html": [
       "<div>\n",
       "<style scoped>\n",
       "    .dataframe tbody tr th:only-of-type {\n",
       "        vertical-align: middle;\n",
       "    }\n",
       "\n",
       "    .dataframe tbody tr th {\n",
       "        vertical-align: top;\n",
       "    }\n",
       "\n",
       "    .dataframe thead th {\n",
       "        text-align: right;\n",
       "    }\n",
       "</style>\n",
       "<table border=\"1\" class=\"dataframe\">\n",
       "  <thead>\n",
       "    <tr style=\"text-align: right;\">\n",
       "      <th></th>\n",
       "      <th>original_price</th>\n",
       "      <th>discounted_price</th>\n",
       "      <th>ratings</th>\n",
       "      <th>rating_count</th>\n",
       "      <th>reviews</th>\n",
       "      <th>memory</th>\n",
       "      <th>storage</th>\n",
       "      <th>display_size</th>\n",
       "      <th>battery_capacity</th>\n",
       "    </tr>\n",
       "  </thead>\n",
       "  <tbody>\n",
       "    <tr>\n",
       "      <th>0</th>\n",
       "      <td>19990</td>\n",
       "      <td>14499</td>\n",
       "      <td>4.5</td>\n",
       "      <td>87331</td>\n",
       "      <td>6044</td>\n",
       "      <td>4.0</td>\n",
       "      <td>128.0</td>\n",
       "      <td>16.36</td>\n",
       "      <td>5000.0</td>\n",
       "    </tr>\n",
       "    <tr>\n",
       "      <th>1</th>\n",
       "      <td>48900</td>\n",
       "      <td>47199</td>\n",
       "      <td>4.6</td>\n",
       "      <td>184191</td>\n",
       "      <td>10818</td>\n",
       "      <td>NaN</td>\n",
       "      <td>128.0</td>\n",
       "      <td>15.49</td>\n",
       "      <td>NaN</td>\n",
       "    </tr>\n",
       "    <tr>\n",
       "      <th>2</th>\n",
       "      <td>20990</td>\n",
       "      <td>15999</td>\n",
       "      <td>4.4</td>\n",
       "      <td>51365</td>\n",
       "      <td>3750</td>\n",
       "      <td>6.0</td>\n",
       "      <td>128.0</td>\n",
       "      <td>16.36</td>\n",
       "      <td>5000.0</td>\n",
       "    </tr>\n",
       "    <tr>\n",
       "      <th>3</th>\n",
       "      <td>15999</td>\n",
       "      <td>11999</td>\n",
       "      <td>4.2</td>\n",
       "      <td>53448</td>\n",
       "      <td>4185</td>\n",
       "      <td>4.0</td>\n",
       "      <td>64.0</td>\n",
       "      <td>16.71</td>\n",
       "      <td>5000.0</td>\n",
       "    </tr>\n",
       "    <tr>\n",
       "      <th>4</th>\n",
       "      <td>14999</td>\n",
       "      <td>9299</td>\n",
       "      <td>4.3</td>\n",
       "      <td>187787</td>\n",
       "      <td>12084</td>\n",
       "      <td>4.0</td>\n",
       "      <td>64.0</td>\n",
       "      <td>17.02</td>\n",
       "      <td>6000.0</td>\n",
       "    </tr>\n",
       "  </tbody>\n",
       "</table>\n",
       "</div>"
      ],
      "text/plain": [
       "   original_price  discounted_price  ratings  rating_count  reviews  memory  \\\n",
       "0           19990             14499      4.5         87331     6044     4.0   \n",
       "1           48900             47199      4.6        184191    10818     NaN   \n",
       "2           20990             15999      4.4         51365     3750     6.0   \n",
       "3           15999             11999      4.2         53448     4185     4.0   \n",
       "4           14999              9299      4.3        187787    12084     4.0   \n",
       "\n",
       "   storage  display_size  battery_capacity  \n",
       "0    128.0         16.36            5000.0  \n",
       "1    128.0         15.49               NaN  \n",
       "2    128.0         16.36            5000.0  \n",
       "3     64.0         16.71            5000.0  \n",
       "4     64.0         17.02            6000.0  "
      ]
     },
     "execution_count": 10,
     "metadata": {},
     "output_type": "execute_result"
    }
   ],
   "source": [
    "df_numerical.head()"
   ]
  },
  {
   "cell_type": "code",
   "execution_count": 11,
   "id": "8fac98dc",
   "metadata": {},
   "outputs": [],
   "source": [
    "df_numerical['memory'].fillna(df_numerical['memory'].median(),inplace=True)\n",
    "df_numerical['storage'].fillna(df_numerical['storage'].median(),inplace=True)\n",
    "df_numerical['battery_capacity'].fillna(df_numerical['battery_capacity'].median(),inplace=True)"
   ]
  },
  {
   "cell_type": "code",
   "execution_count": 12,
   "id": "a2f53f3f",
   "metadata": {},
   "outputs": [],
   "source": [
    "df_categorical = df.select_dtypes(exclude=[np.number])"
   ]
  },
  {
   "cell_type": "code",
   "execution_count": 13,
   "id": "08dac642",
   "metadata": {},
   "outputs": [
    {
     "data": {
      "text/html": [
       "<div>\n",
       "<style scoped>\n",
       "    .dataframe tbody tr th:only-of-type {\n",
       "        vertical-align: middle;\n",
       "    }\n",
       "\n",
       "    .dataframe tbody tr th {\n",
       "        vertical-align: top;\n",
       "    }\n",
       "\n",
       "    .dataframe thead th {\n",
       "        text-align: right;\n",
       "    }\n",
       "</style>\n",
       "<table border=\"1\" class=\"dataframe\">\n",
       "  <thead>\n",
       "    <tr style=\"text-align: right;\">\n",
       "      <th></th>\n",
       "      <th>brand</th>\n",
       "      <th>model</th>\n",
       "      <th>colour</th>\n",
       "      <th>processor</th>\n",
       "      <th>rear_camera</th>\n",
       "      <th>front_camera</th>\n",
       "      <th>battery_type</th>\n",
       "    </tr>\n",
       "  </thead>\n",
       "  <tbody>\n",
       "    <tr>\n",
       "      <th>0</th>\n",
       "      <td>VIVO</td>\n",
       "      <td>VIVO T1 44W</td>\n",
       "      <td>Starry Sky</td>\n",
       "      <td>Qualcomm Snapdragon 680</td>\n",
       "      <td>50MP + 2MP + 2MP</td>\n",
       "      <td>16MP</td>\n",
       "      <td>Lithium</td>\n",
       "    </tr>\n",
       "    <tr>\n",
       "      <th>1</th>\n",
       "      <td>APPLE</td>\n",
       "      <td>APPLE IPHONE 11</td>\n",
       "      <td>White</td>\n",
       "      <td>A Bionic Chip</td>\n",
       "      <td>12MP + 12MP</td>\n",
       "      <td>12MP</td>\n",
       "      <td>NaN</td>\n",
       "    </tr>\n",
       "    <tr>\n",
       "      <th>2</th>\n",
       "      <td>VIVO</td>\n",
       "      <td>VIVO T1 44W</td>\n",
       "      <td>Midnight Galaxy</td>\n",
       "      <td>Qualcomm Snapdragon 680</td>\n",
       "      <td>50MP + 2MP + 2MP</td>\n",
       "      <td>16MP</td>\n",
       "      <td>Lithium</td>\n",
       "    </tr>\n",
       "    <tr>\n",
       "      <th>3</th>\n",
       "      <td>XIAOMI</td>\n",
       "      <td>POCO M4 5G</td>\n",
       "      <td>Power Black</td>\n",
       "      <td>Mediatek Dimensity 700</td>\n",
       "      <td>50MP + 2MP</td>\n",
       "      <td>8MP</td>\n",
       "      <td>Lithium Polymer</td>\n",
       "    </tr>\n",
       "    <tr>\n",
       "      <th>4</th>\n",
       "      <td>XIAOMI</td>\n",
       "      <td>REDMI 10</td>\n",
       "      <td>Caribbean Green</td>\n",
       "      <td>Qualcomm Snapdragon 680</td>\n",
       "      <td>50MP + 2MP</td>\n",
       "      <td>5MP</td>\n",
       "      <td>Lithium Polymer</td>\n",
       "    </tr>\n",
       "    <tr>\n",
       "      <th>...</th>\n",
       "      <td>...</td>\n",
       "      <td>...</td>\n",
       "      <td>...</td>\n",
       "      <td>...</td>\n",
       "      <td>...</td>\n",
       "      <td>...</td>\n",
       "      <td>...</td>\n",
       "    </tr>\n",
       "    <tr>\n",
       "      <th>831</th>\n",
       "      <td>REALME</td>\n",
       "      <td>REALME GT NEO 2</td>\n",
       "      <td>NEO Blue</td>\n",
       "      <td>Qualcomm Snapdragon 870</td>\n",
       "      <td>64MP + 8MP + 2MP</td>\n",
       "      <td>16MP</td>\n",
       "      <td>NaN</td>\n",
       "    </tr>\n",
       "    <tr>\n",
       "      <th>832</th>\n",
       "      <td>REALME</td>\n",
       "      <td>REALME GT NEO 2</td>\n",
       "      <td>NEO Black</td>\n",
       "      <td>Qualcomm Snapdragon 870</td>\n",
       "      <td>64MP + 8MP + 2MP</td>\n",
       "      <td>16MP</td>\n",
       "      <td>NaN</td>\n",
       "    </tr>\n",
       "    <tr>\n",
       "      <th>833</th>\n",
       "      <td>REALME</td>\n",
       "      <td>REALME GT NEO 2</td>\n",
       "      <td>NEO Black</td>\n",
       "      <td>Qualcomm Snapdragon 870</td>\n",
       "      <td>64MP + 8MP + 2MP</td>\n",
       "      <td>16MP</td>\n",
       "      <td>NaN</td>\n",
       "    </tr>\n",
       "    <tr>\n",
       "      <th>834</th>\n",
       "      <td>REALME</td>\n",
       "      <td>REALME X50 PRO</td>\n",
       "      <td>Rust Red</td>\n",
       "      <td>NaN</td>\n",
       "      <td>64MP + 12MP + 8MP + 2MP</td>\n",
       "      <td>32MP + 8MP Dual</td>\n",
       "      <td>NaN</td>\n",
       "    </tr>\n",
       "    <tr>\n",
       "      <th>835</th>\n",
       "      <td>XIAOMI</td>\n",
       "      <td>POCO M2 PRO</td>\n",
       "      <td>Two Shades of Black</td>\n",
       "      <td>Qualcomm Snapdragon 720G</td>\n",
       "      <td>48MP + 8MP + 5MP + 2MP</td>\n",
       "      <td>16MP</td>\n",
       "      <td>Lithium</td>\n",
       "    </tr>\n",
       "  </tbody>\n",
       "</table>\n",
       "<p>836 rows × 7 columns</p>\n",
       "</div>"
      ],
      "text/plain": [
       "      brand             model               colour                 processor  \\\n",
       "0      VIVO      VIVO T1 44W            Starry Sky   Qualcomm Snapdragon 680   \n",
       "1     APPLE  APPLE IPHONE 11                 White             A Bionic Chip   \n",
       "2      VIVO      VIVO T1 44W       Midnight Galaxy   Qualcomm Snapdragon 680   \n",
       "3    XIAOMI       POCO M4 5G           Power Black    Mediatek Dimensity 700   \n",
       "4    XIAOMI         REDMI 10       Caribbean Green   Qualcomm Snapdragon 680   \n",
       "..      ...               ...                  ...                       ...   \n",
       "831  REALME  REALME GT NEO 2              NEO Blue   Qualcomm Snapdragon 870   \n",
       "832  REALME  REALME GT NEO 2             NEO Black   Qualcomm Snapdragon 870   \n",
       "833  REALME  REALME GT NEO 2             NEO Black   Qualcomm Snapdragon 870   \n",
       "834  REALME   REALME X50 PRO              Rust Red                       NaN   \n",
       "835  XIAOMI      POCO M2 PRO   Two Shades of Black  Qualcomm Snapdragon 720G   \n",
       "\n",
       "                  rear_camera      front_camera     battery_type  \n",
       "0           50MP + 2MP + 2MP               16MP          Lithium  \n",
       "1                12MP + 12MP               12MP              NaN  \n",
       "2           50MP + 2MP + 2MP               16MP          Lithium  \n",
       "3                 50MP + 2MP                8MP  Lithium Polymer  \n",
       "4                 50MP + 2MP                5MP  Lithium Polymer  \n",
       "..                        ...               ...              ...  \n",
       "831         64MP + 8MP + 2MP               16MP              NaN  \n",
       "832         64MP + 8MP + 2MP               16MP              NaN  \n",
       "833         64MP + 8MP + 2MP               16MP              NaN  \n",
       "834  64MP + 12MP + 8MP + 2MP    32MP + 8MP Dual              NaN  \n",
       "835   48MP + 8MP + 5MP + 2MP               16MP          Lithium  \n",
       "\n",
       "[836 rows x 7 columns]"
      ]
     },
     "execution_count": 13,
     "metadata": {},
     "output_type": "execute_result"
    }
   ],
   "source": [
    "df_categorical"
   ]
  },
  {
   "cell_type": "code",
   "execution_count": 14,
   "id": "72b64747",
   "metadata": {},
   "outputs": [
    {
     "data": {
      "text/plain": [
       "original_price      0\n",
       "discounted_price    0\n",
       "ratings             0\n",
       "rating_count        0\n",
       "reviews             0\n",
       "memory              0\n",
       "storage             0\n",
       "display_size        0\n",
       "battery_capacity    0\n",
       "dtype: int64"
      ]
     },
     "execution_count": 14,
     "metadata": {},
     "output_type": "execute_result"
    }
   ],
   "source": [
    "df_numerical.isna().sum()"
   ]
  },
  {
   "cell_type": "code",
   "execution_count": 15,
   "id": "fc925f0b",
   "metadata": {},
   "outputs": [
    {
     "data": {
      "text/plain": [
       "brand             0\n",
       "model             0\n",
       "colour            5\n",
       "processor       138\n",
       "rear_camera       0\n",
       "front_camera    129\n",
       "battery_type    359\n",
       "dtype: int64"
      ]
     },
     "execution_count": 15,
     "metadata": {},
     "output_type": "execute_result"
    }
   ],
   "source": [
    "df_categorical.isna().sum()"
   ]
  },
  {
   "cell_type": "code",
   "execution_count": 16,
   "id": "f25b57c1",
   "metadata": {},
   "outputs": [],
   "source": [
    "df_categorical = df_categorical.fillna(df_categorical.mode().iloc[0])"
   ]
  },
  {
   "cell_type": "code",
   "execution_count": 17,
   "id": "6b5afeff",
   "metadata": {},
   "outputs": [
    {
     "data": {
      "text/plain": [
       "brand           0\n",
       "model           0\n",
       "colour          0\n",
       "processor       0\n",
       "rear_camera     0\n",
       "front_camera    0\n",
       "battery_type    0\n",
       "dtype: int64"
      ]
     },
     "execution_count": 17,
     "metadata": {},
     "output_type": "execute_result"
    }
   ],
   "source": [
    "df_categorical.isna().sum()"
   ]
  },
  {
   "cell_type": "code",
   "execution_count": 18,
   "id": "18bb3160",
   "metadata": {},
   "outputs": [],
   "source": [
    "main_df = pd.concat([df_categorical, df_numerical], axis=1)"
   ]
  },
  {
   "cell_type": "code",
   "execution_count": 19,
   "id": "e410b3a6",
   "metadata": {},
   "outputs": [
    {
     "data": {
      "text/html": [
       "<div>\n",
       "<style scoped>\n",
       "    .dataframe tbody tr th:only-of-type {\n",
       "        vertical-align: middle;\n",
       "    }\n",
       "\n",
       "    .dataframe tbody tr th {\n",
       "        vertical-align: top;\n",
       "    }\n",
       "\n",
       "    .dataframe thead th {\n",
       "        text-align: right;\n",
       "    }\n",
       "</style>\n",
       "<table border=\"1\" class=\"dataframe\">\n",
       "  <thead>\n",
       "    <tr style=\"text-align: right;\">\n",
       "      <th></th>\n",
       "      <th>brand</th>\n",
       "      <th>model</th>\n",
       "      <th>colour</th>\n",
       "      <th>processor</th>\n",
       "      <th>rear_camera</th>\n",
       "      <th>front_camera</th>\n",
       "      <th>battery_type</th>\n",
       "      <th>original_price</th>\n",
       "      <th>discounted_price</th>\n",
       "      <th>ratings</th>\n",
       "      <th>rating_count</th>\n",
       "      <th>reviews</th>\n",
       "      <th>memory</th>\n",
       "      <th>storage</th>\n",
       "      <th>display_size</th>\n",
       "      <th>battery_capacity</th>\n",
       "    </tr>\n",
       "  </thead>\n",
       "  <tbody>\n",
       "    <tr>\n",
       "      <th>0</th>\n",
       "      <td>VIVO</td>\n",
       "      <td>VIVO T1 44W</td>\n",
       "      <td>Starry Sky</td>\n",
       "      <td>Qualcomm Snapdragon 680</td>\n",
       "      <td>50MP + 2MP + 2MP</td>\n",
       "      <td>16MP</td>\n",
       "      <td>Lithium</td>\n",
       "      <td>19990</td>\n",
       "      <td>14499</td>\n",
       "      <td>4.5</td>\n",
       "      <td>87331</td>\n",
       "      <td>6044</td>\n",
       "      <td>4.0</td>\n",
       "      <td>128.0</td>\n",
       "      <td>16.36</td>\n",
       "      <td>5000.0</td>\n",
       "    </tr>\n",
       "    <tr>\n",
       "      <th>1</th>\n",
       "      <td>APPLE</td>\n",
       "      <td>APPLE IPHONE 11</td>\n",
       "      <td>White</td>\n",
       "      <td>A Bionic Chip</td>\n",
       "      <td>12MP + 12MP</td>\n",
       "      <td>12MP</td>\n",
       "      <td>Lithium</td>\n",
       "      <td>48900</td>\n",
       "      <td>47199</td>\n",
       "      <td>4.6</td>\n",
       "      <td>184191</td>\n",
       "      <td>10818</td>\n",
       "      <td>6.0</td>\n",
       "      <td>128.0</td>\n",
       "      <td>15.49</td>\n",
       "      <td>5000.0</td>\n",
       "    </tr>\n",
       "    <tr>\n",
       "      <th>2</th>\n",
       "      <td>VIVO</td>\n",
       "      <td>VIVO T1 44W</td>\n",
       "      <td>Midnight Galaxy</td>\n",
       "      <td>Qualcomm Snapdragon 680</td>\n",
       "      <td>50MP + 2MP + 2MP</td>\n",
       "      <td>16MP</td>\n",
       "      <td>Lithium</td>\n",
       "      <td>20990</td>\n",
       "      <td>15999</td>\n",
       "      <td>4.4</td>\n",
       "      <td>51365</td>\n",
       "      <td>3750</td>\n",
       "      <td>6.0</td>\n",
       "      <td>128.0</td>\n",
       "      <td>16.36</td>\n",
       "      <td>5000.0</td>\n",
       "    </tr>\n",
       "    <tr>\n",
       "      <th>3</th>\n",
       "      <td>XIAOMI</td>\n",
       "      <td>POCO M4 5G</td>\n",
       "      <td>Power Black</td>\n",
       "      <td>Mediatek Dimensity 700</td>\n",
       "      <td>50MP + 2MP</td>\n",
       "      <td>8MP</td>\n",
       "      <td>Lithium Polymer</td>\n",
       "      <td>15999</td>\n",
       "      <td>11999</td>\n",
       "      <td>4.2</td>\n",
       "      <td>53448</td>\n",
       "      <td>4185</td>\n",
       "      <td>4.0</td>\n",
       "      <td>64.0</td>\n",
       "      <td>16.71</td>\n",
       "      <td>5000.0</td>\n",
       "    </tr>\n",
       "    <tr>\n",
       "      <th>4</th>\n",
       "      <td>XIAOMI</td>\n",
       "      <td>REDMI 10</td>\n",
       "      <td>Caribbean Green</td>\n",
       "      <td>Qualcomm Snapdragon 680</td>\n",
       "      <td>50MP + 2MP</td>\n",
       "      <td>5MP</td>\n",
       "      <td>Lithium Polymer</td>\n",
       "      <td>14999</td>\n",
       "      <td>9299</td>\n",
       "      <td>4.3</td>\n",
       "      <td>187787</td>\n",
       "      <td>12084</td>\n",
       "      <td>4.0</td>\n",
       "      <td>64.0</td>\n",
       "      <td>17.02</td>\n",
       "      <td>6000.0</td>\n",
       "    </tr>\n",
       "  </tbody>\n",
       "</table>\n",
       "</div>"
      ],
      "text/plain": [
       "    brand             model           colour                processor  \\\n",
       "0    VIVO      VIVO T1 44W        Starry Sky  Qualcomm Snapdragon 680   \n",
       "1   APPLE  APPLE IPHONE 11             White            A Bionic Chip   \n",
       "2    VIVO      VIVO T1 44W   Midnight Galaxy  Qualcomm Snapdragon 680   \n",
       "3  XIAOMI       POCO M4 5G       Power Black   Mediatek Dimensity 700   \n",
       "4  XIAOMI         REDMI 10   Caribbean Green  Qualcomm Snapdragon 680   \n",
       "\n",
       "         rear_camera front_camera     battery_type  original_price  \\\n",
       "0  50MP + 2MP + 2MP          16MP          Lithium           19990   \n",
       "1       12MP + 12MP          12MP          Lithium           48900   \n",
       "2  50MP + 2MP + 2MP          16MP          Lithium           20990   \n",
       "3        50MP + 2MP           8MP  Lithium Polymer           15999   \n",
       "4        50MP + 2MP           5MP  Lithium Polymer           14999   \n",
       "\n",
       "   discounted_price  ratings  rating_count  reviews  memory  storage  \\\n",
       "0             14499      4.5         87331     6044     4.0    128.0   \n",
       "1             47199      4.6        184191    10818     6.0    128.0   \n",
       "2             15999      4.4         51365     3750     6.0    128.0   \n",
       "3             11999      4.2         53448     4185     4.0     64.0   \n",
       "4              9299      4.3        187787    12084     4.0     64.0   \n",
       "\n",
       "   display_size  battery_capacity  \n",
       "0         16.36            5000.0  \n",
       "1         15.49            5000.0  \n",
       "2         16.36            5000.0  \n",
       "3         16.71            5000.0  \n",
       "4         17.02            6000.0  "
      ]
     },
     "execution_count": 19,
     "metadata": {},
     "output_type": "execute_result"
    }
   ],
   "source": [
    "main_df.head()"
   ]
  },
  {
   "cell_type": "code",
   "execution_count": 20,
   "id": "a5671bcd",
   "metadata": {},
   "outputs": [
    {
     "data": {
      "text/plain": [
       "<AxesSubplot: >"
      ]
     },
     "execution_count": 20,
     "metadata": {},
     "output_type": "execute_result"
    },
    {
     "data": {
      "image/png": "[encoded data removed]",
      "text/plain": [
       "<Figure size 432x288 with 2 Axes>"
      ]
     },
     "metadata": {
      "needs_background": "light"
     },
     "output_type": "display_data"
    }
   ],
   "source": [
    "import seaborn as sns\n",
    "corr = main_df.corr(method='pearson')\n",
    "sns.heatmap(corr, annot=True, cmap='Blues')"
   ]
  },
  {
   "cell_type": "code",
   "execution_count": 21,
   "id": "f064d3f1",
   "metadata": {},
   "outputs": [
    {
     "data": {
      "text/plain": [
       "XIAOMI      179\n",
       "REALME      144\n",
       "SAMSUNG     111\n",
       "INFINIX      71\n",
       "VIVO         63\n",
       "APPLE        58\n",
       "OPPO         56\n",
       "MOTOROLA     53\n",
       "TECNO        28\n",
       "IQOO         18\n",
       "ITEL         18\n",
       "ONEPLUS       9\n",
       "LAVA          6\n",
       "NOTHING       5\n",
       "NOKIA         5\n",
       "GOOGLE        4\n",
       "I KALL        4\n",
       "MICROMAX      3\n",
       "MARQ          1\n",
       "Name: brand, dtype: int64"
      ]
     },
     "execution_count": 21,
     "metadata": {},
     "output_type": "execute_result"
    }
   ],
   "source": [
    "main_df['brand'].value_counts()"
   ]
  },
  {
   "cell_type": "code",
   "execution_count": 22,
   "id": "7343eaaa",
   "metadata": {},
   "outputs": [],
   "source": [
    "df_bar = main_df[main_df['brand']=='XIAOMI']"
   ]
  },
  {
   "cell_type": "code",
   "execution_count": 23,
   "id": "d311c63b",
   "metadata": {},
   "outputs": [
    {
     "data": {
      "text/plain": [
       "179"
      ]
     },
     "execution_count": 23,
     "metadata": {},
     "output_type": "execute_result"
    }
   ],
   "source": [
    "len(main_df[main_df['brand']=='XIAOMI'])"
   ]
  },
  {
   "cell_type": "code",
   "execution_count": 24,
   "id": "05dc475f",
   "metadata": {},
   "outputs": [
    {
     "data": {
      "text/html": [
       "<div>\n",
       "<style scoped>\n",
       "    .dataframe tbody tr th:only-of-type {\n",
       "        vertical-align: middle;\n",
       "    }\n",
       "\n",
       "    .dataframe tbody tr th {\n",
       "        vertical-align: top;\n",
       "    }\n",
       "\n",
       "    .dataframe thead th {\n",
       "        text-align: right;\n",
       "    }\n",
       "</style>\n",
       "<table border=\"1\" class=\"dataframe\">\n",
       "  <thead>\n",
       "    <tr style=\"text-align: right;\">\n",
       "      <th></th>\n",
       "      <th>brand</th>\n",
       "      <th>model</th>\n",
       "      <th>colour</th>\n",
       "      <th>processor</th>\n",
       "      <th>rear_camera</th>\n",
       "      <th>front_camera</th>\n",
       "      <th>battery_type</th>\n",
       "      <th>original_price</th>\n",
       "      <th>discounted_price</th>\n",
       "      <th>ratings</th>\n",
       "      <th>rating_count</th>\n",
       "      <th>reviews</th>\n",
       "      <th>memory</th>\n",
       "      <th>storage</th>\n",
       "      <th>display_size</th>\n",
       "      <th>battery_capacity</th>\n",
       "    </tr>\n",
       "  </thead>\n",
       "  <tbody>\n",
       "    <tr>\n",
       "      <th>4</th>\n",
       "      <td>XIAOMI</td>\n",
       "      <td>REDMI 10</td>\n",
       "      <td>Caribbean Green</td>\n",
       "      <td>Qualcomm Snapdragon 680</td>\n",
       "      <td>50MP + 2MP</td>\n",
       "      <td>5MP</td>\n",
       "      <td>Lithium Polymer</td>\n",
       "      <td>14999</td>\n",
       "      <td>9299</td>\n",
       "      <td>4.3</td>\n",
       "      <td>187787</td>\n",
       "      <td>12084</td>\n",
       "      <td>4.0</td>\n",
       "      <td>64.0</td>\n",
       "      <td>17.02</td>\n",
       "      <td>6000.0</td>\n",
       "    </tr>\n",
       "    <tr>\n",
       "      <th>6</th>\n",
       "      <td>XIAOMI</td>\n",
       "      <td>POCO C31</td>\n",
       "      <td>Shadow Gray</td>\n",
       "      <td>MediaTek Helio G35</td>\n",
       "      <td>13MP + 2MP + 2MP</td>\n",
       "      <td>5MP</td>\n",
       "      <td>Lithium</td>\n",
       "      <td>11999</td>\n",
       "      <td>7499</td>\n",
       "      <td>4.3</td>\n",
       "      <td>202727</td>\n",
       "      <td>11672</td>\n",
       "      <td>4.0</td>\n",
       "      <td>64.0</td>\n",
       "      <td>16.59</td>\n",
       "      <td>5000.0</td>\n",
       "    </tr>\n",
       "    <tr>\n",
       "      <th>8</th>\n",
       "      <td>XIAOMI</td>\n",
       "      <td>REDMI 10</td>\n",
       "      <td>Midnight Black</td>\n",
       "      <td>Qualcomm Snapdragon 680</td>\n",
       "      <td>50MP + 2MP</td>\n",
       "      <td>5MP</td>\n",
       "      <td>Lithium Polymer</td>\n",
       "      <td>14999</td>\n",
       "      <td>9299</td>\n",
       "      <td>4.3</td>\n",
       "      <td>187787</td>\n",
       "      <td>12084</td>\n",
       "      <td>4.0</td>\n",
       "      <td>64.0</td>\n",
       "      <td>17.02</td>\n",
       "      <td>6000.0</td>\n",
       "    </tr>\n",
       "    <tr>\n",
       "      <th>14</th>\n",
       "      <td>XIAOMI</td>\n",
       "      <td>REDMI 9I SPORT</td>\n",
       "      <td>Carbon Black</td>\n",
       "      <td>MediaTek Helio G25</td>\n",
       "      <td>13MP</td>\n",
       "      <td>5MP</td>\n",
       "      <td>Lithium Polymer</td>\n",
       "      <td>9999</td>\n",
       "      <td>7499</td>\n",
       "      <td>4.3</td>\n",
       "      <td>236239</td>\n",
       "      <td>13755</td>\n",
       "      <td>4.0</td>\n",
       "      <td>64.0</td>\n",
       "      <td>16.59</td>\n",
       "      <td>5000.0</td>\n",
       "    </tr>\n",
       "    <tr>\n",
       "      <th>16</th>\n",
       "      <td>XIAOMI</td>\n",
       "      <td>POCO C31</td>\n",
       "      <td>Shadow Gray</td>\n",
       "      <td>MediaTek Helio G35</td>\n",
       "      <td>13MP + 2MP + 2MP</td>\n",
       "      <td>5MP</td>\n",
       "      <td>Lithium</td>\n",
       "      <td>10999</td>\n",
       "      <td>6499</td>\n",
       "      <td>4.3</td>\n",
       "      <td>134382</td>\n",
       "      <td>8481</td>\n",
       "      <td>3.0</td>\n",
       "      <td>32.0</td>\n",
       "      <td>16.59</td>\n",
       "      <td>5000.0</td>\n",
       "    </tr>\n",
       "    <tr>\n",
       "      <th>...</th>\n",
       "      <td>...</td>\n",
       "      <td>...</td>\n",
       "      <td>...</td>\n",
       "      <td>...</td>\n",
       "      <td>...</td>\n",
       "      <td>...</td>\n",
       "      <td>...</td>\n",
       "      <td>...</td>\n",
       "      <td>...</td>\n",
       "      <td>...</td>\n",
       "      <td>...</td>\n",
       "      <td>...</td>\n",
       "      <td>...</td>\n",
       "      <td>...</td>\n",
       "      <td>...</td>\n",
       "      <td>...</td>\n",
       "    </tr>\n",
       "    <tr>\n",
       "      <th>814</th>\n",
       "      <td>XIAOMI</td>\n",
       "      <td>POCO C3</td>\n",
       "      <td>Matte Black</td>\n",
       "      <td>Mediatek Helio G35</td>\n",
       "      <td>13MP + 2MP + 2MP</td>\n",
       "      <td>5MP</td>\n",
       "      <td>Lithium</td>\n",
       "      <td>17999</td>\n",
       "      <td>8490</td>\n",
       "      <td>4.3</td>\n",
       "      <td>398759</td>\n",
       "      <td>26507</td>\n",
       "      <td>3.0</td>\n",
       "      <td>32.0</td>\n",
       "      <td>16.59</td>\n",
       "      <td>5000.0</td>\n",
       "    </tr>\n",
       "    <tr>\n",
       "      <th>827</th>\n",
       "      <td>XIAOMI</td>\n",
       "      <td>REDMI NOTE 10 PRO MAX</td>\n",
       "      <td>Glacial Blue</td>\n",
       "      <td>Qualcomm Snapdragon 732G</td>\n",
       "      <td>108MP</td>\n",
       "      <td>16MP</td>\n",
       "      <td>Lithium</td>\n",
       "      <td>22999</td>\n",
       "      <td>20390</td>\n",
       "      <td>4.3</td>\n",
       "      <td>16833</td>\n",
       "      <td>1271</td>\n",
       "      <td>6.0</td>\n",
       "      <td>128.0</td>\n",
       "      <td>16.94</td>\n",
       "      <td>5020.0</td>\n",
       "    </tr>\n",
       "    <tr>\n",
       "      <th>828</th>\n",
       "      <td>XIAOMI</td>\n",
       "      <td>POCO M2 PRO</td>\n",
       "      <td>Out of the Blue</td>\n",
       "      <td>Qualcomm Snapdragon 720G</td>\n",
       "      <td>48MP + 8MP + 5MP + 2MP</td>\n",
       "      <td>16MP</td>\n",
       "      <td>Lithium</td>\n",
       "      <td>17999</td>\n",
       "      <td>17999</td>\n",
       "      <td>4.4</td>\n",
       "      <td>350744</td>\n",
       "      <td>33202</td>\n",
       "      <td>6.0</td>\n",
       "      <td>64.0</td>\n",
       "      <td>16.94</td>\n",
       "      <td>5000.0</td>\n",
       "    </tr>\n",
       "    <tr>\n",
       "      <th>830</th>\n",
       "      <td>XIAOMI</td>\n",
       "      <td>POCO X2</td>\n",
       "      <td>Matrix Purple</td>\n",
       "      <td>Qualcomm Snapdragon 730G</td>\n",
       "      <td>64MP + 8MP + 2MP + 2MP</td>\n",
       "      <td>20MP + 2MP Dual</td>\n",
       "      <td>Lithium</td>\n",
       "      <td>17999</td>\n",
       "      <td>17999</td>\n",
       "      <td>4.5</td>\n",
       "      <td>271179</td>\n",
       "      <td>28996</td>\n",
       "      <td>6.0</td>\n",
       "      <td>64.0</td>\n",
       "      <td>16.94</td>\n",
       "      <td>4500.0</td>\n",
       "    </tr>\n",
       "    <tr>\n",
       "      <th>835</th>\n",
       "      <td>XIAOMI</td>\n",
       "      <td>POCO M2 PRO</td>\n",
       "      <td>Two Shades of Black</td>\n",
       "      <td>Qualcomm Snapdragon 720G</td>\n",
       "      <td>48MP + 8MP + 5MP + 2MP</td>\n",
       "      <td>16MP</td>\n",
       "      <td>Lithium</td>\n",
       "      <td>17999</td>\n",
       "      <td>17999</td>\n",
       "      <td>4.4</td>\n",
       "      <td>350744</td>\n",
       "      <td>33202</td>\n",
       "      <td>6.0</td>\n",
       "      <td>64.0</td>\n",
       "      <td>16.94</td>\n",
       "      <td>5000.0</td>\n",
       "    </tr>\n",
       "  </tbody>\n",
       "</table>\n",
       "<p>96 rows × 16 columns</p>\n",
       "</div>"
      ],
      "text/plain": [
       "      brand                   model               colour  \\\n",
       "4    XIAOMI               REDMI 10       Caribbean Green   \n",
       "6    XIAOMI               POCO C31           Shadow Gray   \n",
       "8    XIAOMI               REDMI 10        Midnight Black   \n",
       "14   XIAOMI         REDMI 9I SPORT          Carbon Black   \n",
       "16   XIAOMI               POCO C31           Shadow Gray   \n",
       "..      ...                     ...                  ...   \n",
       "814  XIAOMI                POCO C3           Matte Black   \n",
       "827  XIAOMI  REDMI NOTE 10 PRO MAX          Glacial Blue   \n",
       "828  XIAOMI            POCO M2 PRO       Out of the Blue   \n",
       "830  XIAOMI                POCO X2         Matrix Purple   \n",
       "835  XIAOMI            POCO M2 PRO   Two Shades of Black   \n",
       "\n",
       "                    processor              rear_camera      front_camera  \\\n",
       "4     Qualcomm Snapdragon 680              50MP + 2MP                5MP   \n",
       "6          MediaTek Helio G35        13MP + 2MP + 2MP                5MP   \n",
       "8     Qualcomm Snapdragon 680              50MP + 2MP                5MP   \n",
       "14         MediaTek Helio G25                    13MP                5MP   \n",
       "16         MediaTek Helio G35        13MP + 2MP + 2MP                5MP   \n",
       "..                        ...                      ...               ...   \n",
       "814        Mediatek Helio G35        13MP + 2MP + 2MP                5MP   \n",
       "827  Qualcomm Snapdragon 732G                   108MP               16MP   \n",
       "828  Qualcomm Snapdragon 720G  48MP + 8MP + 5MP + 2MP               16MP   \n",
       "830  Qualcomm Snapdragon 730G  64MP + 8MP + 2MP + 2MP    20MP + 2MP Dual   \n",
       "835  Qualcomm Snapdragon 720G  48MP + 8MP + 5MP + 2MP               16MP   \n",
       "\n",
       "        battery_type  original_price  discounted_price  ratings  rating_count  \\\n",
       "4    Lithium Polymer           14999              9299      4.3        187787   \n",
       "6            Lithium           11999              7499      4.3        202727   \n",
       "8    Lithium Polymer           14999              9299      4.3        187787   \n",
       "14   Lithium Polymer            9999              7499      4.3        236239   \n",
       "16           Lithium           10999              6499      4.3        134382   \n",
       "..               ...             ...               ...      ...           ...   \n",
       "814          Lithium           17999              8490      4.3        398759   \n",
       "827          Lithium           22999             20390      4.3         16833   \n",
       "828          Lithium           17999             17999      4.4        350744   \n",
       "830          Lithium           17999             17999      4.5        271179   \n",
       "835          Lithium           17999             17999      4.4        350744   \n",
       "\n",
       "     reviews  memory  storage  display_size  battery_capacity  \n",
       "4      12084     4.0     64.0         17.02            6000.0  \n",
       "6      11672     4.0     64.0         16.59            5000.0  \n",
       "8      12084     4.0     64.0         17.02            6000.0  \n",
       "14     13755     4.0     64.0         16.59            5000.0  \n",
       "16      8481     3.0     32.0         16.59            5000.0  \n",
       "..       ...     ...      ...           ...               ...  \n",
       "814    26507     3.0     32.0         16.59            5000.0  \n",
       "827     1271     6.0    128.0         16.94            5020.0  \n",
       "828    33202     6.0     64.0         16.94            5000.0  \n",
       "830    28996     6.0     64.0         16.94            4500.0  \n",
       "835    33202     6.0     64.0         16.94            5000.0  \n",
       "\n",
       "[96 rows x 16 columns]"
      ]
     },
     "execution_count": 24,
     "metadata": {},
     "output_type": "execute_result"
    }
   ],
   "source": [
    "df_bar[df_bar['ratings']>=4.3]"
   ]
  },
  {
   "cell_type": "code",
   "execution_count": 25,
   "id": "fc0dc5b4",
   "metadata": {},
   "outputs": [
    {
     "name": "stdout",
     "output_type": "stream",
     "text": [
      "There are total 96 XIAOMI phones are rating>=4.3\n"
     ]
    }
   ],
   "source": [
    "print(\"There are total\", len(df_bar[df_bar['ratings']>=4.3]), \"XIAOMI phones are rating>=4.3\")"
   ]
  },
  {
   "cell_type": "code",
   "execution_count": 26,
   "id": "287c93fd",
   "metadata": {},
   "outputs": [
    {
     "name": "stderr",
     "output_type": "stream",
     "text": [
      "C:\\Users\\Admin\\anaconda3\\lib\\site-packages\\seaborn\\distributions.py:2619: FutureWarning: `distplot` is a deprecated function and will be removed in a future version. Please adapt your code to use either `displot` (a figure-level function with similar flexibility) or `histplot` (an axes-level function for histograms).\n",
      "  warnings.warn(msg, FutureWarning)\n"
     ]
    },
    {
     "data": {
      "text/plain": [
       "<AxesSubplot: xlabel='ratings', ylabel='Density'>"
      ]
     },
     "execution_count": 26,
     "metadata": {},
     "output_type": "execute_result"
    },
    {
     "data": {
      "image/png": "[encoded data removed]",
      "text/plain": [
       "<Figure size 432x288 with 1 Axes>"
      ]
     },
     "metadata": {
      "needs_background": "light"
     },
     "output_type": "display_data"
    }
   ],
   "source": [
    "sns.distplot(df['ratings'])"
   ]
  },
  {
   "cell_type": "code",
   "execution_count": 27,
   "id": "e8db0b1d",
   "metadata": {},
   "outputs": [
    {
     "data": {
      "text/plain": [
       "<AxesSubplot: ylabel='None'>"
      ]
     },
     "execution_count": 27,
     "metadata": {},
     "output_type": "execute_result"
    },
    {
     "data": {
      "image/png": "[encoded data removed]",
      "text/plain": [
       "<Figure size 1152x720 with 1 Axes>"
      ]
     },
     "metadata": {},
     "output_type": "display_data"
    }
   ],
   "source": [
    "main_df.groupby('brand').size().plot(kind='pie', autopct='%.1f', figsize=(16,10))"
   ]
  },
  {
   "cell_type": "code",
   "execution_count": 28,
   "id": "e0c452c1",
   "metadata": {},
   "outputs": [
    {
     "data": {
      "text/plain": [
       "brand\n",
       "APPLE       4.662069\n",
       "REALME      4.363889\n",
       "GOOGLE      4.350000\n",
       "VIVO        4.347619\n",
       "NOTHING     4.300000\n",
       "ONEPLUS     4.277778\n",
       "XIAOMI      4.252514\n",
       "OPPO        4.248214\n",
       "INFINIX     4.242254\n",
       "IQOO        4.227778\n",
       "SAMSUNG     4.206306\n",
       "TECNO       4.189286\n",
       "MOTOROLA    4.162264\n",
       "LAVA        4.133333\n",
       "ITEL        3.944444\n",
       "MICROMAX    3.900000\n",
       "NOKIA       3.840000\n",
       "MARQ        3.800000\n",
       "I KALL      2.500000\n",
       "Name: ratings, dtype: float64"
      ]
     },
     "execution_count": 28,
     "metadata": {},
     "output_type": "execute_result"
    }
   ],
   "source": [
    "main_df.groupby('brand').mean()['ratings'].sort_values(ascending= False)"
   ]
  },
  {
   "cell_type": "code",
   "execution_count": 29,
   "id": "fc586657",
   "metadata": {},
   "outputs": [
    {
     "data": {
      "text/plain": [
       "<AxesSubplot: xlabel='storage', ylabel='ratings'>"
      ]
     },
     "execution_count": 29,
     "metadata": {},
     "output_type": "execute_result"
    },
    {
     "data": {
      "image/png": "[encoded data removed]",
      "text/plain": [
       "<Figure size 432x288 with 1 Axes>"
      ]
     },
     "metadata": {
      "needs_background": "light"
     },
     "output_type": "display_data"
    }
   ],
   "source": [
    "sns.violinplot(x=main_df['storage'], y=main_df['ratings'])"
   ]
  },
  {
   "cell_type": "code",
   "execution_count": 32,
   "id": "200beb43",
   "metadata": {},
   "outputs": [],
   "source": [
    "from sklearn.preprocessing import LabelEncoder\n",
    "le = LabelEncoder()\n",
    "main_df['brand'] = le.fit_transform(main_df['brand'])"
   ]
  },
  {
   "cell_type": "code",
   "execution_count": 33,
   "id": "b70c82e2",
   "metadata": {},
   "outputs": [
    {
     "data": {
      "text/html": [
       "<div>\n",
       "<style scoped>\n",
       "    .dataframe tbody tr th:only-of-type {\n",
       "        vertical-align: middle;\n",
       "    }\n",
       "\n",
       "    .dataframe tbody tr th {\n",
       "        vertical-align: top;\n",
       "    }\n",
       "\n",
       "    .dataframe thead th {\n",
       "        text-align: right;\n",
       "    }\n",
       "</style>\n",
       "<table border=\"1\" class=\"dataframe\">\n",
       "  <thead>\n",
       "    <tr style=\"text-align: right;\">\n",
       "      <th></th>\n",
       "      <th>brand</th>\n",
       "      <th>model</th>\n",
       "      <th>colour</th>\n",
       "      <th>processor</th>\n",
       "      <th>rear_camera</th>\n",
       "      <th>front_camera</th>\n",
       "      <th>battery_type</th>\n",
       "      <th>original_price</th>\n",
       "      <th>discounted_price</th>\n",
       "      <th>ratings</th>\n",
       "      <th>rating_count</th>\n",
       "      <th>reviews</th>\n",
       "      <th>memory</th>\n",
       "      <th>storage</th>\n",
       "      <th>display_size</th>\n",
       "      <th>battery_capacity</th>\n",
       "    </tr>\n",
       "  </thead>\n",
       "  <tbody>\n",
       "    <tr>\n",
       "      <th>0</th>\n",
       "      <td>17</td>\n",
       "      <td>VIVO T1 44W</td>\n",
       "      <td>Starry Sky</td>\n",
       "      <td>Qualcomm Snapdragon 680</td>\n",
       "      <td>50MP + 2MP + 2MP</td>\n",
       "      <td>16MP</td>\n",
       "      <td>Lithium</td>\n",
       "      <td>19990</td>\n",
       "      <td>14499</td>\n",
       "      <td>4.5</td>\n",
       "      <td>87331</td>\n",
       "      <td>6044</td>\n",
       "      <td>4.0</td>\n",
       "      <td>128.0</td>\n",
       "      <td>16.36</td>\n",
       "      <td>5000.0</td>\n",
       "    </tr>\n",
       "    <tr>\n",
       "      <th>1</th>\n",
       "      <td>0</td>\n",
       "      <td>APPLE IPHONE 11</td>\n",
       "      <td>White</td>\n",
       "      <td>A Bionic Chip</td>\n",
       "      <td>12MP + 12MP</td>\n",
       "      <td>12MP</td>\n",
       "      <td>Lithium</td>\n",
       "      <td>48900</td>\n",
       "      <td>47199</td>\n",
       "      <td>4.6</td>\n",
       "      <td>184191</td>\n",
       "      <td>10818</td>\n",
       "      <td>6.0</td>\n",
       "      <td>128.0</td>\n",
       "      <td>15.49</td>\n",
       "      <td>5000.0</td>\n",
       "    </tr>\n",
       "    <tr>\n",
       "      <th>2</th>\n",
       "      <td>17</td>\n",
       "      <td>VIVO T1 44W</td>\n",
       "      <td>Midnight Galaxy</td>\n",
       "      <td>Qualcomm Snapdragon 680</td>\n",
       "      <td>50MP + 2MP + 2MP</td>\n",
       "      <td>16MP</td>\n",
       "      <td>Lithium</td>\n",
       "      <td>20990</td>\n",
       "      <td>15999</td>\n",
       "      <td>4.4</td>\n",
       "      <td>51365</td>\n",
       "      <td>3750</td>\n",
       "      <td>6.0</td>\n",
       "      <td>128.0</td>\n",
       "      <td>16.36</td>\n",
       "      <td>5000.0</td>\n",
       "    </tr>\n",
       "    <tr>\n",
       "      <th>3</th>\n",
       "      <td>18</td>\n",
       "      <td>POCO M4 5G</td>\n",
       "      <td>Power Black</td>\n",
       "      <td>Mediatek Dimensity 700</td>\n",
       "      <td>50MP + 2MP</td>\n",
       "      <td>8MP</td>\n",
       "      <td>Lithium Polymer</td>\n",
       "      <td>15999</td>\n",
       "      <td>11999</td>\n",
       "      <td>4.2</td>\n",
       "      <td>53448</td>\n",
       "      <td>4185</td>\n",
       "      <td>4.0</td>\n",
       "      <td>64.0</td>\n",
       "      <td>16.71</td>\n",
       "      <td>5000.0</td>\n",
       "    </tr>\n",
       "    <tr>\n",
       "      <th>4</th>\n",
       "      <td>18</td>\n",
       "      <td>REDMI 10</td>\n",
       "      <td>Caribbean Green</td>\n",
       "      <td>Qualcomm Snapdragon 680</td>\n",
       "      <td>50MP + 2MP</td>\n",
       "      <td>5MP</td>\n",
       "      <td>Lithium Polymer</td>\n",
       "      <td>14999</td>\n",
       "      <td>9299</td>\n",
       "      <td>4.3</td>\n",
       "      <td>187787</td>\n",
       "      <td>12084</td>\n",
       "      <td>4.0</td>\n",
       "      <td>64.0</td>\n",
       "      <td>17.02</td>\n",
       "      <td>6000.0</td>\n",
       "    </tr>\n",
       "  </tbody>\n",
       "</table>\n",
       "</div>"
      ],
      "text/plain": [
       "   brand             model           colour                processor  \\\n",
       "0     17      VIVO T1 44W        Starry Sky  Qualcomm Snapdragon 680   \n",
       "1      0  APPLE IPHONE 11             White            A Bionic Chip   \n",
       "2     17      VIVO T1 44W   Midnight Galaxy  Qualcomm Snapdragon 680   \n",
       "3     18       POCO M4 5G       Power Black   Mediatek Dimensity 700   \n",
       "4     18         REDMI 10   Caribbean Green  Qualcomm Snapdragon 680   \n",
       "\n",
       "         rear_camera front_camera     battery_type  original_price  \\\n",
       "0  50MP + 2MP + 2MP          16MP          Lithium           19990   \n",
       "1       12MP + 12MP          12MP          Lithium           48900   \n",
       "2  50MP + 2MP + 2MP          16MP          Lithium           20990   \n",
       "3        50MP + 2MP           8MP  Lithium Polymer           15999   \n",
       "4        50MP + 2MP           5MP  Lithium Polymer           14999   \n",
       "\n",
       "   discounted_price  ratings  rating_count  reviews  memory  storage  \\\n",
       "0             14499      4.5         87331     6044     4.0    128.0   \n",
       "1             47199      4.6        184191    10818     6.0    128.0   \n",
       "2             15999      4.4         51365     3750     6.0    128.0   \n",
       "3             11999      4.2         53448     4185     4.0     64.0   \n",
       "4              9299      4.3        187787    12084     4.0     64.0   \n",
       "\n",
       "   display_size  battery_capacity  \n",
       "0         16.36            5000.0  \n",
       "1         15.49            5000.0  \n",
       "2         16.36            5000.0  \n",
       "3         16.71            5000.0  \n",
       "4         17.02            6000.0  "
      ]
     },
     "execution_count": 33,
     "metadata": {},
     "output_type": "execute_result"
    }
   ],
   "source": [
    "main_df.head()"
   ]
  },
  {
   "cell_type": "code",
   "execution_count": 38,
   "id": "200756ec",
   "metadata": {},
   "outputs": [],
   "source": [
    "df1 = pd.DataFrame(main_df[['brand', 'ratings', 'memory', 'storage']])"
   ]
  },
  {
   "cell_type": "code",
   "execution_count": 39,
   "id": "7c692f3d",
   "metadata": {},
   "outputs": [
    {
     "data": {
      "text/html": [
       "<div>\n",
       "<style scoped>\n",
       "    .dataframe tbody tr th:only-of-type {\n",
       "        vertical-align: middle;\n",
       "    }\n",
       "\n",
       "    .dataframe tbody tr th {\n",
       "        vertical-align: top;\n",
       "    }\n",
       "\n",
       "    .dataframe thead th {\n",
       "        text-align: right;\n",
       "    }\n",
       "</style>\n",
       "<table border=\"1\" class=\"dataframe\">\n",
       "  <thead>\n",
       "    <tr style=\"text-align: right;\">\n",
       "      <th></th>\n",
       "      <th>brand</th>\n",
       "      <th>ratings</th>\n",
       "      <th>memory</th>\n",
       "      <th>storage</th>\n",
       "    </tr>\n",
       "  </thead>\n",
       "  <tbody>\n",
       "    <tr>\n",
       "      <th>0</th>\n",
       "      <td>17</td>\n",
       "      <td>4.5</td>\n",
       "      <td>4.0</td>\n",
       "      <td>128.0</td>\n",
       "    </tr>\n",
       "    <tr>\n",
       "      <th>1</th>\n",
       "      <td>0</td>\n",
       "      <td>4.6</td>\n",
       "      <td>6.0</td>\n",
       "      <td>128.0</td>\n",
       "    </tr>\n",
       "    <tr>\n",
       "      <th>2</th>\n",
       "      <td>17</td>\n",
       "      <td>4.4</td>\n",
       "      <td>6.0</td>\n",
       "      <td>128.0</td>\n",
       "    </tr>\n",
       "    <tr>\n",
       "      <th>3</th>\n",
       "      <td>18</td>\n",
       "      <td>4.2</td>\n",
       "      <td>4.0</td>\n",
       "      <td>64.0</td>\n",
       "    </tr>\n",
       "    <tr>\n",
       "      <th>4</th>\n",
       "      <td>18</td>\n",
       "      <td>4.3</td>\n",
       "      <td>4.0</td>\n",
       "      <td>64.0</td>\n",
       "    </tr>\n",
       "    <tr>\n",
       "      <th>...</th>\n",
       "      <td>...</td>\n",
       "      <td>...</td>\n",
       "      <td>...</td>\n",
       "      <td>...</td>\n",
       "    </tr>\n",
       "    <tr>\n",
       "      <th>831</th>\n",
       "      <td>14</td>\n",
       "      <td>4.4</td>\n",
       "      <td>6.0</td>\n",
       "      <td>256.0</td>\n",
       "    </tr>\n",
       "    <tr>\n",
       "      <th>832</th>\n",
       "      <td>14</td>\n",
       "      <td>4.4</td>\n",
       "      <td>6.0</td>\n",
       "      <td>256.0</td>\n",
       "    </tr>\n",
       "    <tr>\n",
       "      <th>833</th>\n",
       "      <td>14</td>\n",
       "      <td>4.4</td>\n",
       "      <td>8.0</td>\n",
       "      <td>128.0</td>\n",
       "    </tr>\n",
       "    <tr>\n",
       "      <th>834</th>\n",
       "      <td>14</td>\n",
       "      <td>4.4</td>\n",
       "      <td>8.0</td>\n",
       "      <td>128.0</td>\n",
       "    </tr>\n",
       "    <tr>\n",
       "      <th>835</th>\n",
       "      <td>18</td>\n",
       "      <td>4.4</td>\n",
       "      <td>6.0</td>\n",
       "      <td>64.0</td>\n",
       "    </tr>\n",
       "  </tbody>\n",
       "</table>\n",
       "<p>836 rows × 4 columns</p>\n",
       "</div>"
      ],
      "text/plain": [
       "     brand  ratings  memory  storage\n",
       "0       17      4.5     4.0    128.0\n",
       "1        0      4.6     6.0    128.0\n",
       "2       17      4.4     6.0    128.0\n",
       "3       18      4.2     4.0     64.0\n",
       "4       18      4.3     4.0     64.0\n",
       "..     ...      ...     ...      ...\n",
       "831     14      4.4     6.0    256.0\n",
       "832     14      4.4     6.0    256.0\n",
       "833     14      4.4     8.0    128.0\n",
       "834     14      4.4     8.0    128.0\n",
       "835     18      4.4     6.0     64.0\n",
       "\n",
       "[836 rows x 4 columns]"
      ]
     },
     "execution_count": 39,
     "metadata": {},
     "output_type": "execute_result"
    }
   ],
   "source": [
    "df1"
   ]
  },
  {
   "cell_type": "code",
   "execution_count": 40,
   "id": "ff3222cd",
   "metadata": {},
   "outputs": [],
   "source": [
    "from sklearn.preprocessing import StandardScaler\n",
    "stand = StandardScaler()\n",
    "df_sc = stand.fit_transform(df1[['brand', 'ratings', 'memory', 'storage']])"
   ]
  },
  {
   "cell_type": "code",
   "execution_count": 41,
   "id": "cbecd527",
   "metadata": {},
   "outputs": [
    {
     "data": {
      "text/html": [
       "<div>\n",
       "<style scoped>\n",
       "    .dataframe tbody tr th:only-of-type {\n",
       "        vertical-align: middle;\n",
       "    }\n",
       "\n",
       "    .dataframe tbody tr th {\n",
       "        vertical-align: top;\n",
       "    }\n",
       "\n",
       "    .dataframe thead tr th {\n",
       "        text-align: left;\n",
       "    }\n",
       "</style>\n",
       "<table border=\"1\" class=\"dataframe\">\n",
       "  <thead>\n",
       "    <tr>\n",
       "      <th></th>\n",
       "      <th>brand</th>\n",
       "      <th>ratings</th>\n",
       "      <th>memory</th>\n",
       "      <th>storage</th>\n",
       "    </tr>\n",
       "  </thead>\n",
       "  <tbody>\n",
       "    <tr>\n",
       "      <th>0</th>\n",
       "      <td>0.812309</td>\n",
       "      <td>0.801343</td>\n",
       "      <td>-0.675773</td>\n",
       "      <td>0.279736</td>\n",
       "    </tr>\n",
       "    <tr>\n",
       "      <th>1</th>\n",
       "      <td>-2.134228</td>\n",
       "      <td>1.153564</td>\n",
       "      <td>0.364644</td>\n",
       "      <td>0.279736</td>\n",
       "    </tr>\n",
       "    <tr>\n",
       "      <th>2</th>\n",
       "      <td>0.812309</td>\n",
       "      <td>0.449123</td>\n",
       "      <td>0.364644</td>\n",
       "      <td>0.279736</td>\n",
       "    </tr>\n",
       "    <tr>\n",
       "      <th>3</th>\n",
       "      <td>0.985635</td>\n",
       "      <td>-0.255318</td>\n",
       "      <td>-0.675773</td>\n",
       "      <td>-0.654300</td>\n",
       "    </tr>\n",
       "    <tr>\n",
       "      <th>4</th>\n",
       "      <td>0.985635</td>\n",
       "      <td>0.096903</td>\n",
       "      <td>-0.675773</td>\n",
       "      <td>-0.654300</td>\n",
       "    </tr>\n",
       "  </tbody>\n",
       "</table>\n",
       "</div>"
      ],
      "text/plain": [
       "      brand   ratings    memory   storage\n",
       "0  0.812309  0.801343 -0.675773  0.279736\n",
       "1 -2.134228  1.153564  0.364644  0.279736\n",
       "2  0.812309  0.449123  0.364644  0.279736\n",
       "3  0.985635 -0.255318 -0.675773 -0.654300\n",
       "4  0.985635  0.096903 -0.675773 -0.654300"
      ]
     },
     "execution_count": 41,
     "metadata": {},
     "output_type": "execute_result"
    }
   ],
   "source": [
    "X = pd.DataFrame(df_sc, columns=[['brand', 'ratings', 'memory', 'storage']])\n",
    "X.head()"
   ]
  },
  {
   "cell_type": "code",
   "execution_count": 49,
   "id": "3578cd76",
   "metadata": {},
   "outputs": [
    {
     "data": {
      "text/plain": [
       "(836,)"
      ]
     },
     "execution_count": 49,
     "metadata": {},
     "output_type": "execute_result"
    }
   ],
   "source": [
    "y.shape"
   ]
  },
  {
   "cell_type": "code",
   "execution_count": 42,
   "id": "62f55436",
   "metadata": {},
   "outputs": [],
   "source": [
    "y = main_df['discounted_price']"
   ]
  },
  {
   "cell_type": "code",
   "execution_count": 54,
   "id": "4b2ef639",
   "metadata": {},
   "outputs": [],
   "source": [
    "from sklearn.model_selection import train_test_split\n",
    "X_train, X_test, y_train, y_test = train_test_split(X, y, test_size=0.2, random_state=42)"
   ]
  },
  {
   "cell_type": "code",
   "execution_count": 55,
   "id": "660ba2c4",
   "metadata": {},
   "outputs": [
    {
     "data": {
      "text/plain": [
       "(668,)"
      ]
     },
     "execution_count": 55,
     "metadata": {},
     "output_type": "execute_result"
    }
   ],
   "source": [
    "y_train.shape"
   ]
  },
  {
   "cell_type": "code",
   "execution_count": 56,
   "id": "edd37813",
   "metadata": {},
   "outputs": [],
   "source": [
    "from sklearn.ensemble import RandomForestRegressor"
   ]
  },
  {
   "cell_type": "code",
   "execution_count": 57,
   "id": "afdd2c8d",
   "metadata": {},
   "outputs": [],
   "source": [
    "rf = RandomForestRegressor()"
   ]
  },
  {
   "cell_type": "code",
   "execution_count": 58,
   "id": "82fb4b4b",
   "metadata": {},
   "outputs": [
    {
     "data": {
      "text/html": [
       "<style>#sk-container-id-1 {color: black;background-color: white;}#sk-container-id-1 pre{padding: 0;}#sk-container-id-1 div.sk-toggleable {background-color: white;}#sk-container-id-1 label.sk-toggleable__label {cursor: pointer;display: block;width: 100%;margin-bottom: 0;padding: 0.3em;box-sizing: border-box;text-align: center;}#sk-container-id-1 label.sk-toggleable__label-arrow:before {content: \"▸\";float: left;margin-right: 0.25em;color: #696969;}#sk-container-id-1 label.sk-toggleable__label-arrow:hover:before {color: black;}#sk-container-id-1 div.sk-estimator:hover label.sk-toggleable__label-arrow:before {color: black;}#sk-container-id-1 div.sk-toggleable__content {max-height: 0;max-width: 0;overflow: hidden;text-align: left;background-color: #f0f8ff;}#sk-container-id-1 div.sk-toggleable__content pre {margin: 0.2em;color: black;border-radius: 0.25em;background-color: #f0f8ff;}#sk-container-id-1 input.sk-toggleable__control:checked~div.sk-toggleable__content {max-height: 200px;max-width: 100%;overflow: auto;}#sk-container-id-1 input.sk-toggleable__control:checked~label.sk-toggleable__label-arrow:before {content: \"▾\";}#sk-container-id-1 div.sk-estimator input.sk-toggleable__control:checked~label.sk-toggleable__label {background-color: #d4ebff;}#sk-container-id-1 div.sk-label input.sk-toggleable__control:checked~label.sk-toggleable__label {background-color: #d4ebff;}#sk-container-id-1 input.sk-hidden--visually {border: 0;clip: rect(1px 1px 1px 1px);clip: rect(1px, 1px, 1px, 1px);height: 1px;margin: -1px;overflow: hidden;padding: 0;position: absolute;width: 1px;}#sk-container-id-1 div.sk-estimator {font-family: monospace;background-color: #f0f8ff;border: 1px dotted black;border-radius: 0.25em;box-sizing: border-box;margin-bottom: 0.5em;}#sk-container-id-1 div.sk-estimator:hover {background-color: #d4ebff;}#sk-container-id-1 div.sk-parallel-item::after {content: \"\";width: 100%;border-bottom: 1px solid gray;flex-grow: 1;}#sk-container-id-1 div.sk-label:hover label.sk-toggleable__label {background-color: #d4ebff;}#sk-container-id-1 div.sk-serial::before {content: \"\";position: absolute;border-left: 1px solid gray;box-sizing: border-box;top: 0;bottom: 0;left: 50%;z-index: 0;}#sk-container-id-1 div.sk-serial {display: flex;flex-direction: column;align-items: center;background-color: white;padding-right: 0.2em;padding-left: 0.2em;position: relative;}#sk-container-id-1 div.sk-item {position: relative;z-index: 1;}#sk-container-id-1 div.sk-parallel {display: flex;align-items: stretch;justify-content: center;background-color: white;position: relative;}#sk-container-id-1 div.sk-item::before, #sk-container-id-1 div.sk-parallel-item::before {content: \"\";position: absolute;border-left: 1px solid gray;box-sizing: border-box;top: 0;bottom: 0;left: 50%;z-index: -1;}#sk-container-id-1 div.sk-parallel-item {display: flex;flex-direction: column;z-index: 1;position: relative;background-color: white;}#sk-container-id-1 div.sk-parallel-item:first-child::after {align-self: flex-end;width: 50%;}#sk-container-id-1 div.sk-parallel-item:last-child::after {align-self: flex-start;width: 50%;}#sk-container-id-1 div.sk-parallel-item:only-child::after {width: 0;}#sk-container-id-1 div.sk-dashed-wrapped {border: 1px dashed gray;margin: 0 0.4em 0.5em 0.4em;box-sizing: border-box;padding-bottom: 0.4em;background-color: white;}#sk-container-id-1 div.sk-label label {font-family: monospace;font-weight: bold;display: inline-block;line-height: 1.2em;}#sk-container-id-1 div.sk-label-container {text-align: center;}#sk-container-id-1 div.sk-container {/* jupyter's `normalize.less` sets `[hidden] { display: none; }` but bootstrap.min.css set `[hidden] { display: none !important; }` so we also need the `!important` here to be able to override the default hidden behavior on the sphinx rendered scikit-learn.org. See: https://github.com/scikit-learn/scikit-learn/issues/21755 */display: inline-block !important;position: relative;}#sk-container-id-1 div.sk-text-repr-fallback {display: none;}</style><div id=\"sk-container-id-1\" class=\"sk-top-container\"><div class=\"sk-text-repr-fallback\"><pre>RandomForestRegressor()</pre><b>In a Jupyter environment, please rerun this cell to show the HTML representation or trust the notebook. <br />On GitHub, the HTML representation is unable to render, please try loading this page with nbviewer.org.</b></div><div class=\"sk-container\" hidden><div class=\"sk-item\"><div class=\"sk-estimator sk-toggleable\"><input class=\"sk-toggleable__control sk-hidden--visually\" id=\"sk-estimator-id-1\" type=\"checkbox\" checked><label for=\"sk-estimator-id-1\" class=\"sk-toggleable__label sk-toggleable__label-arrow\">RandomForestRegressor</label><div class=\"sk-toggleable__content\"><pre>RandomForestRegressor()</pre></div></div></div></div></div>"
      ],
      "text/plain": [
       "RandomForestRegressor()"
      ]
     },
     "execution_count": 58,
     "metadata": {},
     "output_type": "execute_result"
    }
   ],
   "source": [
    "rf.fit(X_train, y_train)"
   ]
  },
  {
   "cell_type": "code",
   "execution_count": 59,
   "id": "9a7458b8",
   "metadata": {},
   "outputs": [],
   "source": [
    "y_pred = rf.predict(X_test)"
   ]
  },
  {
   "cell_type": "code",
   "execution_count": 60,
   "id": "de84d700",
   "metadata": {},
   "outputs": [
    {
     "data": {
      "text/plain": [
       "array([ 11133.58519048,  22910.69264069,  10299.09532143,  35305.61729365,\n",
       "        25387.43603619,  28888.96036905,  23451.44377783,  11901.29291667,\n",
       "         6895.755     ,   6727.46733333,  12017.77544805,  39323.36904762,\n",
       "        18570.63759415,  28341.16871429,  10266.67891545,  20305.84321068,\n",
       "        94911.09298158,   6895.755     ,   9402.73025111,  25138.9549062 ,\n",
       "        18281.42537708,  17673.3922011 ,   9892.62911905,   6337.69061111,\n",
       "        15809.96897547, 106618.81349206,  18281.42537708,  20548.45966667,\n",
       "       106618.81349206,  28341.16871429,  33847.3292846 ,  46573.91      ,\n",
       "        11188.56825397,   6786.47724206,  11134.38045116,  11867.94701646,\n",
       "        24847.65190476,  23377.99733333,  10266.67891545,   5847.33      ,\n",
       "         6920.834     ,  33847.3292846 ,  23569.37249556,  10384.54154906,\n",
       "        16804.25097147,  12758.2379881 ,  94399.12312687,   8083.85428571,\n",
       "        10299.09532143,  19793.14402117,  10636.17605808,  66493.5       ,\n",
       "        28499.56190476,   7018.4565    ,  10352.48955178,   7276.35509524,\n",
       "        34121.63      ,  94399.12312687,  18708.19356277,  18281.42537708,\n",
       "        44757.8       ,  14385.84271429,   9695.99611905,  13988.21608947,\n",
       "        11916.96487288,   9892.62911905,  12017.77544805,   7481.255     ,\n",
       "        13988.21608947,  94399.12312687,  23451.44377783,  17673.3922011 ,\n",
       "        11916.96487288,  28341.16871429,   9520.7       ,   9402.73025111,\n",
       "        13497.56833333,  44757.8       ,  12079.16666667,  94911.09298158,\n",
       "        23377.99733333,   9742.51492063,  14561.84186169,  28341.16871429,\n",
       "        29583.70122619,  13365.0915    ,  16804.25097147,  16472.71983691,\n",
       "        10441.88435786,  11808.06418418,  13928.38830411,   9402.73025111,\n",
       "        75205.64      ,  13842.47761905,   8940.39197619,  11769.02009656,\n",
       "         9402.73025111,  20548.45966667,  15841.95442058,  16472.71983691,\n",
       "        10441.88435786,   7668.41551648,  48489.34920635,  15841.95442058,\n",
       "        10352.48955178,   5915.8775    ,  15911.71055253,   9892.62911905,\n",
       "        16109.19232143,  14385.84271429,  13988.21608947,  94399.12312687,\n",
       "        94911.09298158,  17673.3922011 ,  15809.96897547,  24531.21076146,\n",
       "        12758.2379881 ,  13988.21608947,  19793.14402117,  15823.8955    ,\n",
       "        20305.84321068,  18548.90401984,  11188.56825397,  10266.67891545,\n",
       "        53799.15151515,  57701.5       ,   8940.39197619,  13248.99235714,\n",
       "        32735.64285714,  11808.06418418,  33847.3292846 ,  25387.43603619,\n",
       "        15841.95442058,  15578.96916667,   7919.09852381,  11212.53333333,\n",
       "         7587.4717619 ,  19793.14402117,  19793.14402117,  23569.37249556,\n",
       "        26277.6191847 ,  13543.9966811 ,  29651.76190476,  94911.09298158,\n",
       "        13543.9966811 ,  22187.12035714,   6665.93215873,  15911.71055253,\n",
       "        19793.14402117,  15578.96916667,  10352.48955178,  24531.21076146,\n",
       "         5209.56571429,  18708.19356277,  22187.12035714,  16370.40666667,\n",
       "        48489.34920635,   7629.04916667,  18548.90401984,  22910.69264069,\n",
       "        10352.48955178,  23569.37249556,  11916.96487288,  18570.63759415,\n",
       "        25387.43603619,  42549.        ,   7592.07289286,  23377.99733333])"
      ]
     },
     "execution_count": 60,
     "metadata": {},
     "output_type": "execute_result"
    }
   ],
   "source": [
    "y_pred"
   ]
  },
  {
   "cell_type": "code",
   "execution_count": 63,
   "id": "9b4dfdf0",
   "metadata": {},
   "outputs": [
    {
     "data": {
      "text/plain": [
       "0.844479986474307"
      ]
     },
     "execution_count": 63,
     "metadata": {},
     "output_type": "execute_result"
    }
   ],
   "source": [
    "from sklearn.metrics import r2_score, mean_squared_error\n",
    "r2_score(y_test, y_pred)"
   ]
  },
  {
   "cell_type": "code",
   "execution_count": 66,
   "id": "2d0d4a85",
   "metadata": {},
   "outputs": [
    {
     "name": "stdout",
     "output_type": "stream",
     "text": [
      "9160.938310762755\n"
     ]
    }
   ],
   "source": [
    "print(np.sqrt(mean_squared_error(y_test, y_pred)))"
   ]
  },
  {
   "cell_type": "code",
   "execution_count": null,
   "id": "1d3175cd",
   "metadata": {},
   "outputs": [],
   "source": []
  }
 ],
 "metadata": {
  "kernelspec": {
   "display_name": "Python 3 (ipykernel)",
   "language": "python",
   "name": "python3"
  },
  "language_info": {
   "codemirror_mode": {
    "name": "ipython",
    "version": 3
   },
   "file_extension": ".py",
   "mimetype": "text/x-python",
   "name": "python",
   "nbconvert_exporter": "python",
   "pygments_lexer": "ipython3",
   "version": "3.9.12"
  }
 },
 "nbformat": 4,
 "nbformat_minor": 5
}
